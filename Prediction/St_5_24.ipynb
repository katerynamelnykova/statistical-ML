{
 "cells": [
  {
   "cell_type": "markdown",
   "metadata": {},
   "source": [
    "# Лабораторна робота №5"
   ]
  },
  {
   "cell_type": "markdown",
   "metadata": {},
   "source": [
    "1. Спершу імпортуємо і підготуємо дані"
   ]
  },
  {
   "cell_type": "code",
   "execution_count": 63,
   "metadata": {},
   "outputs": [],
   "source": [
    "from sklearn.model_selection import cross_val_score\n",
    "from sklearn.ensemble import RandomForestClassifier\n",
    "import warnings\n",
    "import pandas as pd\n",
    "\n",
    "warnings.filterwarnings('ignore')"
   ]
  },
  {
   "cell_type": "markdown",
   "metadata": {},
   "source": [
    "Спершу імпортуємо дані і рандомно перемішаємо їх так як зараз вони надто структуровані, що може погіршити результати."
   ]
  },
  {
   "cell_type": "code",
   "execution_count": 64,
   "metadata": {},
   "outputs": [],
   "source": [
    "train_df = pd.read_csv('pml-training.csv', index_col=False).drop(columns=['Unnamed: 0'])\n",
    "test_df = pd.read_csv('pml-testing.csv', index_col=False).drop(columns=['Unnamed: 0'])\n",
    "\n",
    "train_df = train_df.sample(frac=1, random_state=42).reset_index(drop=True)\n",
    "\n"
   ]
  },
  {
   "cell_type": "markdown",
   "metadata": {},
   "source": [
    "Видалимо ті колонки в яких більше 80% пропущених значень, так як вони можуть негативно вплинути на результати."
   ]
  },
  {
   "cell_type": "code",
   "execution_count": 65,
   "metadata": {},
   "outputs": [],
   "source": [
    "threshold = 0.8\n",
    "valid_columns = train_df.columns[train_df.isnull().mean() < threshold]\n",
    "train_df = train_df[valid_columns]\n",
    "test_df = test_df[train_df.columns.drop('classe')]\n",
    "\n",
    "\n"
   ]
  },
  {
   "cell_type": "markdown",
   "metadata": {},
   "source": [
    "Видалимо нерелевантні колонки пов'язані з часом так як вони не будуть корисними для прогнозування на інших наборах даних."
   ]
  },
  {
   "cell_type": "code",
   "execution_count": 66,
   "metadata": {},
   "outputs": [],
   "source": [
    "cols_to_drop = ['raw_timestamp_part_1', 'raw_timestamp_part_2', 'cvtd_timestamp', 'new_window', 'num_window']\n",
    "test_cols_to_drop = cols_to_drop + ['problem_id']\n",
    "train_df.drop(columns=cols_to_drop, inplace=True, errors='ignore')\n",
    "test_df.drop(columns=test_cols_to_drop, inplace=True, errors='ignore')\n"
   ]
  },
  {
   "cell_type": "markdown",
   "metadata": {},
   "source": [
    "Використаємо `One-hot encoding` для кодування категоріальної змінної `user_name`. А також розділимо дані на тренувальні дані та мітки"
   ]
  },
  {
   "cell_type": "code",
   "execution_count": 67,
   "metadata": {},
   "outputs": [],
   "source": [
    "\n",
    "train_df = pd.get_dummies(train_df, columns=['user_name'], drop_first=True)\n",
    "test_df = pd.get_dummies(test_df, columns=['user_name'], drop_first=True)\n",
    "\n",
    "\n",
    "X = train_df.drop(columns=['classe'])\n",
    "y = train_df['classe']"
   ]
  },
  {
   "cell_type": "markdown",
   "metadata": {},
   "source": [
    "2. Тепер щоб вирішити поставлену задачу використаємо `RandomForestClassifier` та `10-fold cross-validation` для оцінки результатів моделі."
   ]
  },
  {
   "cell_type": "code",
   "execution_count": 68,
   "metadata": {},
   "outputs": [
    {
     "name": "stdout",
     "output_type": "stream",
     "text": [
      "Cross-validation scores: [0.9979623  0.99745288 0.99643221 0.99745158 0.99592253 0.99643221\n",
      " 0.99592253 0.99745158 0.99592253 0.99541284]\n",
      "Mean cross-validation score: 0.9966363193078059\n",
      "Predictions for the 20 test cases:\n",
      " ['B' 'A' 'B' 'A' 'A' 'E' 'D' 'B' 'A' 'A' 'B' 'C' 'B' 'A' 'E' 'E' 'A' 'B'\n",
      " 'B' 'B']\n"
     ]
    }
   ],
   "source": [
    "model = RandomForestClassifier(n_estimators=100, random_state=42)\n",
    "\n",
    "\n",
    "cv_scores = cross_val_score(model, X, y, cv=10)\n",
    "print(f'Cross-validation scores: {cv_scores}')\n",
    "print(f'Mean cross-validation score: {cv_scores.mean()}')\n",
    "\n",
    "\n",
    "model.fit(X, y)\n",
    "\n",
    "\n",
    "y_pred = model.predict(test_df)\n",
    "print(\"Predictions for the 20 test cases:\\n\", y_pred)\n"
   ]
  },
  {
   "cell_type": "markdown",
   "metadata": {},
   "source": [
    "Як бачимо, точність ориманих результатів є досить високою (>99% під час всіх десяти фолдів), що вказує на високу продуктивність моделі. Це в тому числі пояснюється вибором методу `Random Forest`, що є стійким до перенавчання завдяки його принципу роботи: побудові ансамблю дерев, усередненню їхніх передбачень і випадковому вибору ознак, що зменшує ризик запам’ятовування шуму та перенавчання."
   ]
  }
 ],
 "metadata": {
  "kernelspec": {
   "display_name": "Python 3",
   "language": "python",
   "name": "python3"
  },
  "language_info": {
   "codemirror_mode": {
    "name": "ipython",
    "version": 3
   },
   "file_extension": ".py",
   "mimetype": "text/x-python",
   "name": "python",
   "nbconvert_exporter": "python",
   "pygments_lexer": "ipython3",
   "version": "3.9.6"
  }
 },
 "nbformat": 4,
 "nbformat_minor": 2
}
